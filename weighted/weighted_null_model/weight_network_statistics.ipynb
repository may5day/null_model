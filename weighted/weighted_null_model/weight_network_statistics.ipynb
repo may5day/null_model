{
 "cells": [
  {
   "cell_type": "markdown",
   "metadata": {},
   "source": [
    "# 4.4参照零模型的加权无向网络统计特性分析（代码部分）"
   ]
  },
  {
   "cell_type": "markdown",
   "metadata": {},
   "source": [
    "## 4.4.1节点强度特征"
   ]
  },
  {
   "cell_type": "code",
   "execution_count": 1,
   "metadata": {
    "collapsed": true
   },
   "outputs": [],
   "source": [
    "import networkx as nx                                           \n",
    "import pandas as pd\n",
    "import numpy as np"
   ]
  },
  {
   "cell_type": "code",
   "execution_count": 5,
   "metadata": {
    "collapsed": true
   },
   "outputs": [],
   "source": [
    "#构建一个无向加权网络G\n",
    "fh=open(\"origin.txt\", 'rb')\n",
    "G=nx.read_weighted_edgelist(fh)\n",
    "fh.close()\n",
    "G0 = G.to_undirected()"
   ]
  },
  {
   "cell_type": "code",
   "execution_count": 12,
   "metadata": {
    "collapsed": false
   },
   "outputs": [],
   "source": [
    "#计算整个网络中每个节点的度\n",
    "Gd=G0.degree(weight='None')\n",
    "#计算整个网络中每个节点的权\n",
    "Gs=G0.degree(weight='weight')"
   ]
  },
  {
   "cell_type": "code",
   "execution_count": 16,
   "metadata": {
    "collapsed": false
   },
   "outputs": [
    {
     "name": "stdout",
     "output_type": "stream",
     "text": [
      "20.0 5\n"
     ]
    }
   ],
   "source": [
    "print Gs['74448']"
   ]
  },
  {
   "cell_type": "code",
   "execution_count": 15,
   "metadata": {
    "collapsed": false
   },
   "outputs": [
    {
     "name": "stdout",
     "output_type": "stream",
     "text": [
      "5\n"
     ]
    }
   ],
   "source": [
    "print Gd['74448']"
   ]
  },
  {
   "cell_type": "code",
   "execution_count": 4,
   "metadata": {
    "collapsed": true
   },
   "outputs": [],
   "source": [
    "#定义求节点强度特征的函数node_strengh().\n",
    "#输入参数为网络名称G和节点node输出为节点强度Si，节点的度Ki,权重分布差异性统计量Yi."
   ]
  },
  {
   "cell_type": "code",
   "execution_count": 15,
   "metadata": {
    "collapsed": false
   },
   "outputs": [],
   "source": [
    "def node_strengh(G,node):\n",
    "    edgeslist=list(G.edges_iter(node))    \n",
    "    weight = pd.Series(edgeslist)\n",
    "    weight = weight.apply(lambda x:G.get_edge_data(x[0],x[1])['weight'])\n",
    "    Si=sum(weight)\n",
    "    Ki=G.degree(node)\n",
    "    Yi='%.4f'%(sum(np.square(weight/Si)))    \n",
    "    return Si,Ki,Yi"
   ]
  },
  {
   "cell_type": "code",
   "execution_count": 6,
   "metadata": {
    "collapsed": true
   },
   "outputs": [],
   "source": [
    "#以网络G中的74448节点为例调用函数得到结果，其中节点的强度为20.0、度为5、统计量为 0.2563。"
   ]
  },
  {
   "cell_type": "code",
   "execution_count": 16,
   "metadata": {
    "collapsed": false
   },
   "outputs": [
    {
     "name": "stdout",
     "output_type": "stream",
     "text": [
      "(20.0, 5, '0.2563')\n"
     ]
    }
   ],
   "source": [
    "print node_strengh(G,74448)"
   ]
  },
  {
   "cell_type": "code",
   "execution_count": null,
   "metadata": {
    "collapsed": true
   },
   "outputs": [],
   "source": []
  }
 ],
 "metadata": {
  "kernelspec": {
   "display_name": "Python 2",
   "language": "python",
   "name": "python2"
  },
  "language_info": {
   "codemirror_mode": {
    "name": "ipython",
    "version": 2
   },
   "file_extension": ".py",
   "mimetype": "text/x-python",
   "name": "python",
   "nbconvert_exporter": "python",
   "pygments_lexer": "ipython2",
   "version": "2.7.12"
  }
 },
 "nbformat": 4,
 "nbformat_minor": 0
}
